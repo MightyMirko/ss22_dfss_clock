{
 "cells": [
  {
   "cell_type": "code",
   "execution_count": null,
   "outputs": [],
   "source": [
    "# https://hackernoon.com/intro-to-audio-analysis-recognizing-sounds-using-machine-learning-qy2r3ufl\n",
    "# Example 1: short-term feature extraction\n",
    "import pandas\n",
    "from pyAudioAnalysis import ShortTermFeatures as aF\n",
    "from pyAudioAnalysis import audioBasicIO as aIO\n",
    "from pyAudioAnalysis import MidTermFeatures as mF\n",
    "import numpy as np\n",
    "import plotly.graph_objs as go\n",
    "import plotly\n",
    "import IPython\n",
    "\n",
    "# read audio data from file\n",
    "# (returns sampling freq and signal as a numpy array)\n",
    "audiofile = r'data/20220509_16_26_46.wav'\n",
    "fs, s = aIO.read_audio_file(audiofile)\n",
    "\n",
    "# play the initial and the generated files in notebook:\n",
    "#IPython.display.display(IPython.display.Audio(audiofile))\n",
    "\n",
    "\n",
    "# print duration in seconds:\n",
    "duration = len(s) / float(fs)\n",
    "print(f'duration = {duration} seconds')\n",
    "\n",
    "# extract short-term features using a 50msec non-overlapping windows\n",
    "win, step = 0.03, 0.03\n",
    "\n",
    "[f, fn] = aF.feature_extraction(s, fs, int(fs * win),\n",
    "                                int(fs * step))\n",
    "\n",
    "feature_frame = pandas.DataFrame(f, index=fn)\n",
    "#feature_frame.tail()"
   ],
   "metadata": {
    "collapsed": false,
    "pycharm": {
     "name": "#%%\n"
    }
   }
  },
  {
   "cell_type": "code",
   "execution_count": null,
   "outputs": [],
   "source": [
    "time = np.arange(0, duration - step, win)\n",
    "# get the feature whose name is 'energy'\n",
    "energy = f[fn.index('energy'), :]\n",
    "\n",
    "mylayout = go.Layout(yaxis=dict(title=\"frame energy value\"),\n",
    "                     xaxis=dict(title=\"time (sec)\"))\n",
    "plotly.offline.iplot(go.Figure(data=[go.Scatter(x=time,\n",
    "                                                y=energy)],\n",
    "                               layout=mylayout))"
   ],
   "metadata": {
    "collapsed": false,
    "pycharm": {
     "name": "#%%\n"
    }
   }
  },
  {
   "cell_type": "code",
   "execution_count": null,
   "outputs": [],
   "source": [
    "#df = pandas.DataFrame().append(feature)\n",
    "# plot short-term energy\n",
    "# create time axis in seconds\n",
    "time = np.arange(0, duration - step, win)\n",
    "# get the feature whose name is 'energy'\n",
    "energy = f[fn.index('spectral_centroid'), :]\n",
    "mylayout = go.Layout(yaxis=dict(title=\"spectral_centroid value\"),\n",
    "                     xaxis=dict(title=\"time (sec)\"))\n",
    "plotly.offline.iplot(go.Figure(data=[go.Scatter(x=time,\n",
    "                                                y=energy)],\n",
    "                               layout=mylayout))\n",
    "energy.ptp()"
   ],
   "metadata": {
    "collapsed": false,
    "pycharm": {
     "name": "#%%\n"
    }
   }
  },
  {
   "cell_type": "code",
   "execution_count": null,
   "outputs": [],
   "source": [
    "entropy =  f[fn.index('energy_entropy'), :]\n",
    "mylayout = go.Layout(yaxis=dict(title=\" energy entropy value\"),\n",
    "                     xaxis=dict(title=\"time (sec)\")\n",
    "                )\n",
    "plotly.offline.iplot(go.Figure(data=[go.Scatter(x=time,\n",
    "                                                y=entropy,\n",
    "                                                 mode='markers')],\n",
    "                               layout=mylayout))\n",
    "\n",
    "Spectral_Rolloff = f[fn.index('spectral_rolloff'), :]\n",
    "\n",
    "plotly.offline.iplot(go.Figure(data=[go.Scatter(x=time,\n",
    "                                                y=Spectral_Rolloff,\n",
    "                                                 mode='markers')],\n",
    "                               layout=mylayout))"
   ],
   "metadata": {
    "collapsed": false,
    "pycharm": {
     "name": "#%%\n"
    }
   }
  },
  {
   "cell_type": "code",
   "execution_count": null,
   "outputs": [],
   "source": [],
   "metadata": {
    "collapsed": false,
    "pycharm": {
     "name": "#%%\n"
    }
   }
  },
  {
   "cell_type": "code",
   "execution_count": null,
   "outputs": [],
   "source": [
    "mydiff = np.diff(energy,0)\n",
    "plotly.offline.iplot(go.Figure(data=[go.Scatter(x=time,\n",
    "                                                y=mydiff,\n",
    "                                                 )],\n",
    "                               layout=mylayout))"
   ],
   "metadata": {
    "collapsed": false,
    "pycharm": {
     "name": "#%%\n"
    }
   }
  },
  {
   "cell_type": "code",
   "execution_count": null,
   "outputs": [],
   "source": [
    "# händische diff\n",
    "old_energy = 0\n",
    "new_energy = 0\n",
    "dd = 0\n",
    "diff_array=[]\n",
    "for i in energy:\n",
    "    new_energy = i\n",
    "    dd = new_energy - old_energy\n",
    "    diff_array.append(dd)\n",
    "\n",
    "plotly.offline.iplot(go.Figure(data=[go.Scatter(x=time,\n",
    "                                                y=diff_array,\n",
    "                                                 )],\n",
    "                               layout=mylayout))"
   ],
   "metadata": {
    "collapsed": false,
    "pycharm": {
     "name": "#%%\n"
    }
   }
  }
 ],
 "metadata": {
  "kernelspec": {
   "display_name": "Python 3",
   "language": "python",
   "name": "python3"
  },
  "language_info": {
   "codemirror_mode": {
    "name": "ipython",
    "version": 2
   },
   "file_extension": ".py",
   "mimetype": "text/x-python",
   "name": "python",
   "nbconvert_exporter": "python",
   "pygments_lexer": "ipython2",
   "version": "2.7.6"
  }
 },
 "nbformat": 4,
 "nbformat_minor": 0
}