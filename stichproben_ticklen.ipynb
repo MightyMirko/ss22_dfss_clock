{
 "cells": [
  {
   "cell_type": "code",
   "execution_count": 1,
   "metadata": {
    "collapsed": true,
    "pycharm": {
     "name": "#%%\n"
    }
   },
   "outputs": [
    {
     "data": {
      "text/plain": "                   Tick_no   start    ende  maxFreq  maxTick Unnamed: 6\nDateiname                                                              \n20220509_17_31_33      1.0   686.0   769.0    390.0    714.0       hoch\n20220509_17_31_34      2.0  1588.0  1707.0    396.0   1621.0       hoch\n20220510_00_13_34      1.0   506.0   734.0    406.0    578.0       hoch\n20220510_00_13_35      2.0  1443.0  1569.0    411.0   1466.0       hoch\n20220509_17_31_33      1.0   684.0   768.0    390.0    715.0       hoch",
      "text/html": "<div>\n<style scoped>\n    .dataframe tbody tr th:only-of-type {\n        vertical-align: middle;\n    }\n\n    .dataframe tbody tr th {\n        vertical-align: top;\n    }\n\n    .dataframe thead th {\n        text-align: right;\n    }\n</style>\n<table border=\"1\" class=\"dataframe\">\n  <thead>\n    <tr style=\"text-align: right;\">\n      <th></th>\n      <th>Tick_no</th>\n      <th>start</th>\n      <th>ende</th>\n      <th>maxFreq</th>\n      <th>maxTick</th>\n      <th>Unnamed: 6</th>\n    </tr>\n    <tr>\n      <th>Dateiname</th>\n      <th></th>\n      <th></th>\n      <th></th>\n      <th></th>\n      <th></th>\n      <th></th>\n    </tr>\n  </thead>\n  <tbody>\n    <tr>\n      <th>20220509_17_31_33</th>\n      <td>1.0</td>\n      <td>686.0</td>\n      <td>769.0</td>\n      <td>390.0</td>\n      <td>714.0</td>\n      <td>hoch</td>\n    </tr>\n    <tr>\n      <th>20220509_17_31_34</th>\n      <td>2.0</td>\n      <td>1588.0</td>\n      <td>1707.0</td>\n      <td>396.0</td>\n      <td>1621.0</td>\n      <td>hoch</td>\n    </tr>\n    <tr>\n      <th>20220510_00_13_34</th>\n      <td>1.0</td>\n      <td>506.0</td>\n      <td>734.0</td>\n      <td>406.0</td>\n      <td>578.0</td>\n      <td>hoch</td>\n    </tr>\n    <tr>\n      <th>20220510_00_13_35</th>\n      <td>2.0</td>\n      <td>1443.0</td>\n      <td>1569.0</td>\n      <td>411.0</td>\n      <td>1466.0</td>\n      <td>hoch</td>\n    </tr>\n    <tr>\n      <th>20220509_17_31_33</th>\n      <td>1.0</td>\n      <td>684.0</td>\n      <td>768.0</td>\n      <td>390.0</td>\n      <td>715.0</td>\n      <td>hoch</td>\n    </tr>\n  </tbody>\n</table>\n</div>"
     },
     "execution_count": 1,
     "metadata": {},
     "output_type": "execute_result"
    }
   ],
   "source": [
    "import pandas\n",
    "import  pandas as pd\n",
    "import numpy as np\n",
    "import seaborn as sns\n",
    "import matplotlib.pyplot as plt\n",
    "df = pandas.read_csv('stichprobe.csv',delimiter=';',index_col='Dateiname')\n",
    "df.head()"
   ]
  },
  {
   "cell_type": "code",
   "execution_count": 2,
   "metadata": {
    "collapsed": false,
    "pycharm": {
     "name": "#%%\n"
    }
   },
   "outputs": [],
   "source": [
    "df.dropna(inplace=True)\n",
    "df.drop_duplicates(inplace=True)"
   ]
  },
  {
   "cell_type": "code",
   "execution_count": 3,
   "metadata": {
    "collapsed": false,
    "pycharm": {
     "name": "#%%\n"
    }
   },
   "outputs": [
    {
     "ename": "SyntaxError",
     "evalue": "EOL while scanning string literal (Temp/ipykernel_8660/2652425073.py, line 1)",
     "output_type": "error",
     "traceback": [
      "\u001B[1;36m  File \u001B[1;32m\"C:\\Users\\Mirko\\AppData\\Local\\Temp/ipykernel_8660/2652425073.py\"\u001B[1;36m, line \u001B[1;32m1\u001B[0m\n\u001B[1;33m    hoch = df['Unnamed: 6\u001B[0m\n\u001B[1;37m                         ^\u001B[0m\n\u001B[1;31mSyntaxError\u001B[0m\u001B[1;31m:\u001B[0m EOL while scanning string literal\n"
     ]
    }
   ],
   "source": [
    "hoch = df['Unnamed: 6\n",
    "hoch.head()"
   ]
  },
  {
   "cell_type": "code",
   "execution_count": null,
   "metadata": {
    "collapsed": false,
    "pycharm": {
     "name": "#%%\n"
    }
   },
   "outputs": [],
   "source": [
    "\n",
    "\n",
    "\n",
    "fig, ax = plt.subplots(2, 1, constrained_layout=True, sharex='all')  # , sharey='all')\n",
    "\n",
    "x = pandas.to_datetime(df.index, format='%Y%m%d_%H_%M_%S')\n",
    "x = x.sort_values()\n",
    "tick = df['Tick_no']\n",
    "ax[0].scatter(x=x, y = df['maxFreq'])\n",
    "ax[0].scatter(x=x, y = df['start'])"
   ]
  },
  {
   "cell_type": "code",
   "execution_count": null,
   "metadata": {
    "collapsed": false,
    "pycharm": {
     "name": "#%%\n"
    }
   },
   "outputs": [],
   "source": [
    "fig, ax = plt.subplots(figsize=(8,6))\n",
    "x =  np.arange(0,2000,1)\n",
    "for n, grp in df.groupby('Tick_no'):\n",
    "    ax.scatter(x = \"start\", y = \"maxFreq\", data=df, label=n)\n",
    "ax.legend(title=\"Label\")"
   ]
  }
 ],
 "metadata": {
  "kernelspec": {
   "display_name": "Python 3.9.7 ('sixSigma')",
   "language": "python",
   "name": "python3"
  },
  "language_info": {
   "codemirror_mode": {
    "name": "ipython",
    "version": 3
   },
   "file_extension": ".py",
   "mimetype": "text/x-python",
   "name": "python",
   "nbconvert_exporter": "python",
   "pygments_lexer": "ipython3",
   "version": "3.9.7"
  },
  "vscode": {
   "interpreter": {
    "hash": "ec5f65682ed19303c97f70fb2796a4a282d18044841b5c26d766b933d037c217"
   }
  }
 },
 "nbformat": 4,
 "nbformat_minor": 0
}