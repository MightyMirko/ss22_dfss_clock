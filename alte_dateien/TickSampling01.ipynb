{
 "cells": [
  {
   "cell_type": "markdown",
   "id": "ecb014a8",
   "metadata": {},
   "source": [
    "# Zielsetzung\n",
    "Das zu entwickelende System soll am Tick des Sekundenzeigers einer Uhr erkennen, ob dieser gerade auf dem Weg nach oben ist, sich bereits oben befindet, er auf dem Weg nach unten ist, oder bereits unten ist. Hierzu wird ein Testdatensatz benötigt, der mit Hilfe dieses Programms erzeugt werden soll\n",
    "# Programmablauf\n",
    "Das Programm startet alle 3 Sekunden das Sampling und sampelt für 2 Sekunden. Als Zeitbasis gilt hierbei die Systemzeit des Computers. Die entstehenden Wavefiles werden mit dem jeweiligen Zeitstempel versehen abgespeichert.\n",
    "\n",
    "Quelle des Codes zum Soundsampling:\n",
    "https://realpython.com/playing-and-recording-sound-python/#recording-audio"
   ]
  },
  {
   "cell_type": "code",
   "execution_count": 2,
   "id": "9dea810c",
   "metadata": {},
   "outputs": [
    {
     "name": "stdout",
     "output_type": "stream",
     "text": [
      "Audios\\ 20220415_09_29_59.wav\n"
     ]
    },
    {
     "ename": "FileNotFoundError",
     "evalue": "[Errno 2] No such file or directory: 'Audios\\\\ 20220415_09_29_59.wav'",
     "output_type": "error",
     "traceback": [
      "\u001B[1;31m---------------------------------------------------------------------------\u001B[0m",
      "\u001B[1;31mFileNotFoundError\u001B[0m                         Traceback (most recent call last)",
      "Input \u001B[1;32mIn [2]\u001B[0m, in \u001B[0;36m<cell line: 14>\u001B[1;34m()\u001B[0m\n\u001B[0;32m     22\u001B[0m myrecording \u001B[38;5;241m=\u001B[39m sd\u001B[38;5;241m.\u001B[39mrec(\u001B[38;5;28mint\u001B[39m(iRecordingDuration \u001B[38;5;241m*\u001B[39m iSampleRate), samplerate\u001B[38;5;241m=\u001B[39miSampleRate, channels\u001B[38;5;241m=\u001B[39m\u001B[38;5;241m1\u001B[39m)\n\u001B[0;32m     23\u001B[0m sd\u001B[38;5;241m.\u001B[39mwait()  \u001B[38;5;66;03m# Wait until recording is finished\u001B[39;00m\n\u001B[1;32m---> 24\u001B[0m \u001B[43mwrite\u001B[49m\u001B[43m(\u001B[49m\u001B[43msFileName\u001B[49m\u001B[43m,\u001B[49m\u001B[43m \u001B[49m\u001B[43miSampleRate\u001B[49m\u001B[43m,\u001B[49m\u001B[43m \u001B[49m\u001B[43mmyrecording\u001B[49m\u001B[43m)\u001B[49m\n",
      "File \u001B[1;32m~\\anaconda3\\envs\\ss22_dfss_clock\\lib\\site-packages\\scipy\\io\\wavfile.py:766\u001B[0m, in \u001B[0;36mwrite\u001B[1;34m(filename, rate, data)\u001B[0m\n\u001B[0;32m    764\u001B[0m     fid \u001B[38;5;241m=\u001B[39m filename\n\u001B[0;32m    765\u001B[0m \u001B[38;5;28;01melse\u001B[39;00m:\n\u001B[1;32m--> 766\u001B[0m     fid \u001B[38;5;241m=\u001B[39m \u001B[38;5;28;43mopen\u001B[39;49m\u001B[43m(\u001B[49m\u001B[43mfilename\u001B[49m\u001B[43m,\u001B[49m\u001B[43m \u001B[49m\u001B[38;5;124;43m'\u001B[39;49m\u001B[38;5;124;43mwb\u001B[39;49m\u001B[38;5;124;43m'\u001B[39;49m\u001B[43m)\u001B[49m\n\u001B[0;32m    768\u001B[0m fs \u001B[38;5;241m=\u001B[39m rate\n\u001B[0;32m    770\u001B[0m \u001B[38;5;28;01mtry\u001B[39;00m:\n",
      "\u001B[1;31mFileNotFoundError\u001B[0m: [Errno 2] No such file or directory: 'Audios\\\\ 20220415_09_29_59.wav'"
     ]
    }
   ],
   "source": [
    "import sounddevice as sd\n",
    "from datetime import timedelta, datetime\n",
    "from scipy.io.wavfile import write\n",
    "\n",
    "#Parameter für das Sampling festlegen\n",
    "iSampleRate = 48000  \n",
    "iRecordingDuration = 2  \n",
    "\n",
    "#Ersten Zeitstempel nehmen\n",
    "dNow = datetime.now()\n",
    "dNextStep = dNow + timedelta(seconds=3) \n",
    "\n",
    "while True:\n",
    "    dNow = datetime.now()\n",
    "    if dNow >= dNextStep:  #Sind 3 Sekunden seit dem letzten Sampling vergangen?\n",
    "        dNextStep = dNow + timedelta(seconds=3)\n",
    "        #Filename generieren und ausgeben\n",
    "        sFileName = \"Audios\\ \"\n",
    "        sFileName += dNow.strftime(\"%Y%m%d_%H_%M_%S\")\n",
    "        sFileName += \".wav\"\n",
    "        print(sFileName)\n",
    "        myrecording = sd.rec(int(iRecordingDuration * iSampleRate), samplerate=iSampleRate, channels=1)\n",
    "        sd.wait()  # Wait until recording is finished\n",
    "        write(sFileName, iSampleRate, myrecording)  # Save as WAV file \n"
   ]
  },
  {
   "cell_type": "code",
   "execution_count": null,
   "id": "f292556e",
   "metadata": {},
   "outputs": [],
   "source": []
  }
 ],
 "metadata": {
  "kernelspec": {
   "display_name": "Python 3 (ipykernel)",
   "language": "python",
   "name": "python3"
  },
  "language_info": {
   "codemirror_mode": {
    "name": "ipython",
    "version": 3
   },
   "file_extension": ".py",
   "mimetype": "text/x-python",
   "name": "python",
   "nbconvert_exporter": "python",
   "pygments_lexer": "ipython3",
   "version": "3.9.7"
  }
 },
 "nbformat": 4,
 "nbformat_minor": 5
}