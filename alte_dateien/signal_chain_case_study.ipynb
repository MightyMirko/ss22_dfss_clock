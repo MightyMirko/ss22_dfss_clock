{
 "cells": [
  {
   "cell_type": "markdown",
   "metadata": {},
   "source": [
    "# Signal Chain Analysis in Python\n",
    "\n",
    "**A Case Study for Electronics Engineers**\n",
    "\n",
    "**Gael Close**\n",
    "\n",
    "\n",
    "This notebook is an appendix to the following article:\n",
    "\n",
    "* G. Close, “Signal chain analysis in python: a case study for hardware engineers,” Towards Data Science, 22-Feb-2021. Available: https://towardsdatascience.com/signal-chain-analysis-in-python-84513fcf7db2. \n",
    "\n",
    "The illustrative functional block diagram analyzed in the article is shown below.\n"
   ]
  },
  {
   "cell_type": "code",
   "execution_count": 1,
   "metadata": {},
   "outputs": [
    {
     "ename": "FileNotFoundError",
     "evalue": "No such file or directory: 'illustrative_example.png'",
     "output_type": "error",
     "traceback": [
      "\u001B[1;31m---------------------------------------------------------------------------\u001B[0m",
      "\u001B[1;31mTypeError\u001B[0m                                 Traceback (most recent call last)",
      "\u001B[1;32m~\\anaconda3\\envs\\sixSigma\\lib\\site-packages\\IPython\\core\\display.py\u001B[0m in \u001B[0;36m_data_and_metadata\u001B[1;34m(self, always_both)\u001B[0m\n\u001B[0;32m   1299\u001B[0m         \u001B[1;32mtry\u001B[0m\u001B[1;33m:\u001B[0m\u001B[1;33m\u001B[0m\u001B[1;33m\u001B[0m\u001B[0m\n\u001B[1;32m-> 1300\u001B[1;33m             \u001B[0mb64_data\u001B[0m \u001B[1;33m=\u001B[0m \u001B[0mb2a_base64\u001B[0m\u001B[1;33m(\u001B[0m\u001B[0mself\u001B[0m\u001B[1;33m.\u001B[0m\u001B[0mdata\u001B[0m\u001B[1;33m)\u001B[0m\u001B[1;33m.\u001B[0m\u001B[0mdecode\u001B[0m\u001B[1;33m(\u001B[0m\u001B[1;34m'ascii'\u001B[0m\u001B[1;33m)\u001B[0m\u001B[1;33m\u001B[0m\u001B[1;33m\u001B[0m\u001B[0m\n\u001B[0m\u001B[0;32m   1301\u001B[0m         \u001B[1;32mexcept\u001B[0m \u001B[0mTypeError\u001B[0m\u001B[1;33m:\u001B[0m\u001B[1;33m\u001B[0m\u001B[1;33m\u001B[0m\u001B[0m\n",
      "\u001B[1;31mTypeError\u001B[0m: a bytes-like object is required, not 'str'",
      "\nDuring handling of the above exception, another exception occurred:\n",
      "\u001B[1;31mFileNotFoundError\u001B[0m                         Traceback (most recent call last)",
      "\u001B[1;32m~\\anaconda3\\envs\\sixSigma\\lib\\site-packages\\IPython\\core\\formatters.py\u001B[0m in \u001B[0;36m__call__\u001B[1;34m(self, obj, include, exclude)\u001B[0m\n\u001B[0;32m    968\u001B[0m \u001B[1;33m\u001B[0m\u001B[0m\n\u001B[0;32m    969\u001B[0m             \u001B[1;32mif\u001B[0m \u001B[0mmethod\u001B[0m \u001B[1;32mis\u001B[0m \u001B[1;32mnot\u001B[0m \u001B[1;32mNone\u001B[0m\u001B[1;33m:\u001B[0m\u001B[1;33m\u001B[0m\u001B[1;33m\u001B[0m\u001B[0m\n\u001B[1;32m--> 970\u001B[1;33m                 \u001B[1;32mreturn\u001B[0m \u001B[0mmethod\u001B[0m\u001B[1;33m(\u001B[0m\u001B[0minclude\u001B[0m\u001B[1;33m=\u001B[0m\u001B[0minclude\u001B[0m\u001B[1;33m,\u001B[0m \u001B[0mexclude\u001B[0m\u001B[1;33m=\u001B[0m\u001B[0mexclude\u001B[0m\u001B[1;33m)\u001B[0m\u001B[1;33m\u001B[0m\u001B[1;33m\u001B[0m\u001B[0m\n\u001B[0m\u001B[0;32m    971\u001B[0m             \u001B[1;32mreturn\u001B[0m \u001B[1;32mNone\u001B[0m\u001B[1;33m\u001B[0m\u001B[1;33m\u001B[0m\u001B[0m\n\u001B[0;32m    972\u001B[0m         \u001B[1;32melse\u001B[0m\u001B[1;33m:\u001B[0m\u001B[1;33m\u001B[0m\u001B[1;33m\u001B[0m\u001B[0m\n",
      "\u001B[1;32m~\\anaconda3\\envs\\sixSigma\\lib\\site-packages\\IPython\\core\\display.py\u001B[0m in \u001B[0;36m_repr_mimebundle_\u001B[1;34m(self, include, exclude)\u001B[0m\n\u001B[0;32m   1288\u001B[0m         \u001B[1;32mif\u001B[0m \u001B[0mself\u001B[0m\u001B[1;33m.\u001B[0m\u001B[0membed\u001B[0m\u001B[1;33m:\u001B[0m\u001B[1;33m\u001B[0m\u001B[1;33m\u001B[0m\u001B[0m\n\u001B[0;32m   1289\u001B[0m             \u001B[0mmimetype\u001B[0m \u001B[1;33m=\u001B[0m \u001B[0mself\u001B[0m\u001B[1;33m.\u001B[0m\u001B[0m_mimetype\u001B[0m\u001B[1;33m\u001B[0m\u001B[1;33m\u001B[0m\u001B[0m\n\u001B[1;32m-> 1290\u001B[1;33m             \u001B[0mdata\u001B[0m\u001B[1;33m,\u001B[0m \u001B[0mmetadata\u001B[0m \u001B[1;33m=\u001B[0m \u001B[0mself\u001B[0m\u001B[1;33m.\u001B[0m\u001B[0m_data_and_metadata\u001B[0m\u001B[1;33m(\u001B[0m\u001B[0malways_both\u001B[0m\u001B[1;33m=\u001B[0m\u001B[1;32mTrue\u001B[0m\u001B[1;33m)\u001B[0m\u001B[1;33m\u001B[0m\u001B[1;33m\u001B[0m\u001B[0m\n\u001B[0m\u001B[0;32m   1291\u001B[0m             \u001B[1;32mif\u001B[0m \u001B[0mmetadata\u001B[0m\u001B[1;33m:\u001B[0m\u001B[1;33m\u001B[0m\u001B[1;33m\u001B[0m\u001B[0m\n\u001B[0;32m   1292\u001B[0m                 \u001B[0mmetadata\u001B[0m \u001B[1;33m=\u001B[0m \u001B[1;33m{\u001B[0m\u001B[0mmimetype\u001B[0m\u001B[1;33m:\u001B[0m \u001B[0mmetadata\u001B[0m\u001B[1;33m}\u001B[0m\u001B[1;33m\u001B[0m\u001B[1;33m\u001B[0m\u001B[0m\n",
      "\u001B[1;32m~\\anaconda3\\envs\\sixSigma\\lib\\site-packages\\IPython\\core\\display.py\u001B[0m in \u001B[0;36m_data_and_metadata\u001B[1;34m(self, always_both)\u001B[0m\n\u001B[0;32m   1300\u001B[0m             \u001B[0mb64_data\u001B[0m \u001B[1;33m=\u001B[0m \u001B[0mb2a_base64\u001B[0m\u001B[1;33m(\u001B[0m\u001B[0mself\u001B[0m\u001B[1;33m.\u001B[0m\u001B[0mdata\u001B[0m\u001B[1;33m)\u001B[0m\u001B[1;33m.\u001B[0m\u001B[0mdecode\u001B[0m\u001B[1;33m(\u001B[0m\u001B[1;34m'ascii'\u001B[0m\u001B[1;33m)\u001B[0m\u001B[1;33m\u001B[0m\u001B[1;33m\u001B[0m\u001B[0m\n\u001B[0;32m   1301\u001B[0m         \u001B[1;32mexcept\u001B[0m \u001B[0mTypeError\u001B[0m\u001B[1;33m:\u001B[0m\u001B[1;33m\u001B[0m\u001B[1;33m\u001B[0m\u001B[0m\n\u001B[1;32m-> 1302\u001B[1;33m             raise FileNotFoundError(\n\u001B[0m\u001B[0;32m   1303\u001B[0m                 \"No such file or directory: '%s'\" % (self.data))\n\u001B[0;32m   1304\u001B[0m         \u001B[0mmd\u001B[0m \u001B[1;33m=\u001B[0m \u001B[1;33m{\u001B[0m\u001B[1;33m}\u001B[0m\u001B[1;33m\u001B[0m\u001B[1;33m\u001B[0m\u001B[0m\n",
      "\u001B[1;31mFileNotFoundError\u001B[0m: No such file or directory: 'illustrative_example.png'"
     ]
    },
    {
     "ename": "FileNotFoundError",
     "evalue": "No such file or directory: 'illustrative_example.png'",
     "output_type": "error",
     "traceback": [
      "\u001B[1;31m---------------------------------------------------------------------------\u001B[0m",
      "\u001B[1;31mTypeError\u001B[0m                                 Traceback (most recent call last)",
      "\u001B[1;32m~\\anaconda3\\envs\\sixSigma\\lib\\site-packages\\IPython\\core\\display.py\u001B[0m in \u001B[0;36m_data_and_metadata\u001B[1;34m(self, always_both)\u001B[0m\n\u001B[0;32m   1299\u001B[0m         \u001B[1;32mtry\u001B[0m\u001B[1;33m:\u001B[0m\u001B[1;33m\u001B[0m\u001B[1;33m\u001B[0m\u001B[0m\n\u001B[1;32m-> 1300\u001B[1;33m             \u001B[0mb64_data\u001B[0m \u001B[1;33m=\u001B[0m \u001B[0mb2a_base64\u001B[0m\u001B[1;33m(\u001B[0m\u001B[0mself\u001B[0m\u001B[1;33m.\u001B[0m\u001B[0mdata\u001B[0m\u001B[1;33m)\u001B[0m\u001B[1;33m.\u001B[0m\u001B[0mdecode\u001B[0m\u001B[1;33m(\u001B[0m\u001B[1;34m'ascii'\u001B[0m\u001B[1;33m)\u001B[0m\u001B[1;33m\u001B[0m\u001B[1;33m\u001B[0m\u001B[0m\n\u001B[0m\u001B[0;32m   1301\u001B[0m         \u001B[1;32mexcept\u001B[0m \u001B[0mTypeError\u001B[0m\u001B[1;33m:\u001B[0m\u001B[1;33m\u001B[0m\u001B[1;33m\u001B[0m\u001B[0m\n",
      "\u001B[1;31mTypeError\u001B[0m: a bytes-like object is required, not 'str'",
      "\nDuring handling of the above exception, another exception occurred:\n",
      "\u001B[1;31mFileNotFoundError\u001B[0m                         Traceback (most recent call last)",
      "\u001B[1;32m~\\anaconda3\\envs\\sixSigma\\lib\\site-packages\\IPython\\core\\formatters.py\u001B[0m in \u001B[0;36m__call__\u001B[1;34m(self, obj)\u001B[0m\n\u001B[0;32m    343\u001B[0m             \u001B[0mmethod\u001B[0m \u001B[1;33m=\u001B[0m \u001B[0mget_real_method\u001B[0m\u001B[1;33m(\u001B[0m\u001B[0mobj\u001B[0m\u001B[1;33m,\u001B[0m \u001B[0mself\u001B[0m\u001B[1;33m.\u001B[0m\u001B[0mprint_method\u001B[0m\u001B[1;33m)\u001B[0m\u001B[1;33m\u001B[0m\u001B[1;33m\u001B[0m\u001B[0m\n\u001B[0;32m    344\u001B[0m             \u001B[1;32mif\u001B[0m \u001B[0mmethod\u001B[0m \u001B[1;32mis\u001B[0m \u001B[1;32mnot\u001B[0m \u001B[1;32mNone\u001B[0m\u001B[1;33m:\u001B[0m\u001B[1;33m\u001B[0m\u001B[1;33m\u001B[0m\u001B[0m\n\u001B[1;32m--> 345\u001B[1;33m                 \u001B[1;32mreturn\u001B[0m \u001B[0mmethod\u001B[0m\u001B[1;33m(\u001B[0m\u001B[1;33m)\u001B[0m\u001B[1;33m\u001B[0m\u001B[1;33m\u001B[0m\u001B[0m\n\u001B[0m\u001B[0;32m    346\u001B[0m             \u001B[1;32mreturn\u001B[0m \u001B[1;32mNone\u001B[0m\u001B[1;33m\u001B[0m\u001B[1;33m\u001B[0m\u001B[0m\n\u001B[0;32m    347\u001B[0m         \u001B[1;32melse\u001B[0m\u001B[1;33m:\u001B[0m\u001B[1;33m\u001B[0m\u001B[1;33m\u001B[0m\u001B[0m\n",
      "\u001B[1;32m~\\anaconda3\\envs\\sixSigma\\lib\\site-packages\\IPython\\core\\display.py\u001B[0m in \u001B[0;36m_repr_png_\u001B[1;34m(self)\u001B[0m\n\u001B[0;32m   1318\u001B[0m     \u001B[1;32mdef\u001B[0m \u001B[0m_repr_png_\u001B[0m\u001B[1;33m(\u001B[0m\u001B[0mself\u001B[0m\u001B[1;33m)\u001B[0m\u001B[1;33m:\u001B[0m\u001B[1;33m\u001B[0m\u001B[1;33m\u001B[0m\u001B[0m\n\u001B[0;32m   1319\u001B[0m         \u001B[1;32mif\u001B[0m \u001B[0mself\u001B[0m\u001B[1;33m.\u001B[0m\u001B[0membed\u001B[0m \u001B[1;32mand\u001B[0m \u001B[0mself\u001B[0m\u001B[1;33m.\u001B[0m\u001B[0mformat\u001B[0m \u001B[1;33m==\u001B[0m \u001B[0mself\u001B[0m\u001B[1;33m.\u001B[0m\u001B[0m_FMT_PNG\u001B[0m\u001B[1;33m:\u001B[0m\u001B[1;33m\u001B[0m\u001B[1;33m\u001B[0m\u001B[0m\n\u001B[1;32m-> 1320\u001B[1;33m             \u001B[1;32mreturn\u001B[0m \u001B[0mself\u001B[0m\u001B[1;33m.\u001B[0m\u001B[0m_data_and_metadata\u001B[0m\u001B[1;33m(\u001B[0m\u001B[1;33m)\u001B[0m\u001B[1;33m\u001B[0m\u001B[1;33m\u001B[0m\u001B[0m\n\u001B[0m\u001B[0;32m   1321\u001B[0m \u001B[1;33m\u001B[0m\u001B[0m\n\u001B[0;32m   1322\u001B[0m     \u001B[1;32mdef\u001B[0m \u001B[0m_repr_jpeg_\u001B[0m\u001B[1;33m(\u001B[0m\u001B[0mself\u001B[0m\u001B[1;33m)\u001B[0m\u001B[1;33m:\u001B[0m\u001B[1;33m\u001B[0m\u001B[1;33m\u001B[0m\u001B[0m\n",
      "\u001B[1;32m~\\anaconda3\\envs\\sixSigma\\lib\\site-packages\\IPython\\core\\display.py\u001B[0m in \u001B[0;36m_data_and_metadata\u001B[1;34m(self, always_both)\u001B[0m\n\u001B[0;32m   1300\u001B[0m             \u001B[0mb64_data\u001B[0m \u001B[1;33m=\u001B[0m \u001B[0mb2a_base64\u001B[0m\u001B[1;33m(\u001B[0m\u001B[0mself\u001B[0m\u001B[1;33m.\u001B[0m\u001B[0mdata\u001B[0m\u001B[1;33m)\u001B[0m\u001B[1;33m.\u001B[0m\u001B[0mdecode\u001B[0m\u001B[1;33m(\u001B[0m\u001B[1;34m'ascii'\u001B[0m\u001B[1;33m)\u001B[0m\u001B[1;33m\u001B[0m\u001B[1;33m\u001B[0m\u001B[0m\n\u001B[0;32m   1301\u001B[0m         \u001B[1;32mexcept\u001B[0m \u001B[0mTypeError\u001B[0m\u001B[1;33m:\u001B[0m\u001B[1;33m\u001B[0m\u001B[1;33m\u001B[0m\u001B[0m\n\u001B[1;32m-> 1302\u001B[1;33m             raise FileNotFoundError(\n\u001B[0m\u001B[0;32m   1303\u001B[0m                 \"No such file or directory: '%s'\" % (self.data))\n\u001B[0;32m   1304\u001B[0m         \u001B[0mmd\u001B[0m \u001B[1;33m=\u001B[0m \u001B[1;33m{\u001B[0m\u001B[1;33m}\u001B[0m\u001B[1;33m\u001B[0m\u001B[1;33m\u001B[0m\u001B[0m\n",
      "\u001B[1;31mFileNotFoundError\u001B[0m: No such file or directory: 'illustrative_example.png'"
     ]
    },
    {
     "data": {
      "text/plain": "<IPython.core.display.Image object>"
     },
     "execution_count": 1,
     "metadata": {},
     "output_type": "execute_result"
    }
   ],
   "source": [
    "from IPython.display import Image\n",
    "Image(\"illustrative_example.png\", width=1000)"
   ]
  },
  {
   "cell_type": "markdown",
   "metadata": {},
   "source": [
    "## All function definitions\n",
    "\n",
    "All import and functions used throughout the notebook are defined here."
   ]
  },
  {
   "cell_type": "code",
   "execution_count": 2,
   "metadata": {
    "init_cell": true
   },
   "outputs": [
    {
     "ename": "ModuleNotFoundError",
     "evalue": "No module named 'holoviews'",
     "output_type": "error",
     "traceback": [
      "\u001B[1;31m---------------------------------------------------------------------------\u001B[0m",
      "\u001B[1;31mModuleNotFoundError\u001B[0m                       Traceback (most recent call last)",
      "\u001B[1;32m~\\AppData\\Local\\Temp/ipykernel_26904/1164592653.py\u001B[0m in \u001B[0;36m<module>\u001B[1;34m\u001B[0m\n\u001B[0;32m      4\u001B[0m \u001B[1;32mimport\u001B[0m \u001B[0mscipy\u001B[0m\u001B[1;33m\u001B[0m\u001B[1;33m\u001B[0m\u001B[0m\n\u001B[0;32m      5\u001B[0m \u001B[1;32mimport\u001B[0m \u001B[0mpandas\u001B[0m \u001B[1;32mas\u001B[0m \u001B[0mpd\u001B[0m\u001B[1;33m\u001B[0m\u001B[1;33m\u001B[0m\u001B[0m\n\u001B[1;32m----> 6\u001B[1;33m \u001B[1;32mimport\u001B[0m \u001B[0mholoviews\u001B[0m \u001B[1;32mas\u001B[0m \u001B[0mhv\u001B[0m\u001B[1;33m\u001B[0m\u001B[1;33m\u001B[0m\u001B[0m\n\u001B[0m\u001B[0;32m      7\u001B[0m \u001B[1;32mimport\u001B[0m \u001B[0mhvplot\u001B[0m\u001B[1;33m.\u001B[0m\u001B[0mpandas\u001B[0m\u001B[1;33m\u001B[0m\u001B[1;33m\u001B[0m\u001B[0m\n\u001B[0;32m      8\u001B[0m \u001B[1;32mimport\u001B[0m \u001B[0mpanel\u001B[0m \u001B[1;32mas\u001B[0m \u001B[0mpn\u001B[0m\u001B[1;33m\u001B[0m\u001B[1;33m\u001B[0m\u001B[0m\n",
      "\u001B[1;31mModuleNotFoundError\u001B[0m: No module named 'holoviews'"
     ]
    }
   ],
   "source": [
    "## Init cell containing all definitions\n",
    "# Common package\n",
    "import numpy as np\n",
    "import scipy\n",
    "import pandas as pd\n",
    "import holoviews as hv\n",
    "import hvplot.pandas\n",
    "import panel as pn\n",
    "pn.extension()\n",
    "#To test: pn.Column(\"## Title\", pd.DataFrame(np.random.randn(100, 2)).cumsum().hvplot())\n",
    "\n",
    "# Specific to this analyis\n",
    "from magpylib.source.magnet import Box as Bar_magnet\n",
    "from scipy.spatial.transform import Rotation as R\n",
    "from scipy import signal\n",
    "import yaml\n",
    "from box import Box\n",
    "from mergedeep import merge\n",
    "from magpylib.source.magnet import Box as Bar_magnet\n",
    "\n",
    "def deg_180(x):\n",
    "  '''wrap angle in [-180,180] deg'''\n",
    "  return(((x + 180) % (360)) - 180)\n",
    "\n",
    "#----------------------\n",
    "# Constants\n",
    "#----------------------\n",
    "FIG_WIDTH=400\n",
    "\n",
    "#----------------------\n",
    "# Function wrapper\n",
    "#----------------------\n",
    "\n",
    "def apply_func_df(func):\n",
    "  def wrapper(df, dd, **kwargs):\n",
    "    Y = df.apply(func, dd=dd, **kwargs, axis=1, result_type='expand')\n",
    "    return df.drop(columns=Y.columns, errors='ignore').join(Y)\n",
    "  wrapper.__wrapped__ = func\n",
    "  return wrapper\n",
    "\n",
    "#----------------------\n",
    "# Parameters\n",
    "#----------------------\n",
    "\n",
    "def load_dd():\n",
    "  return Box({\n",
    "    'magnet'  : {\n",
    "      'dim'   : [10,10,10],  # magnet dimension Lx, Ly, Lz [mm]\n",
    "      'mag'   : [-1,0,0],    # magnetization vector Br [Tesla]  \n",
    "      'pos'   : [0,0,15] },  # magnet center [mm] \n",
    "    'sensor'  : {\n",
    "      'pos'   : [0,1,0],     # sensor center [mm]\n",
    "      'tilt'  : 3,           # sensor tilt [°]\n",
    "      'S'     : 1.0,         # sensor sensitivity [Volt/Telsa]\n",
    "      'noise' : 0.2 },       # sensor input-referred noise [Tesla]\n",
    "    'adc': {\n",
    "       'lsb'  : 0.1,         # ADC LSB size rounding step\n",
    "       'n'    : 12 },        # ADC number of bits \n",
    "    'cordic'  : {\n",
    "      'n'     : 12, }        # CORDIC number of iterations \n",
    "  })\n",
    "\n",
    "def calc_derived(dd):\n",
    "  dd.sensor.airgap =dd.magnet.pos[2] - dd.magnet.dim[2]\n",
    "  dd.sensor.rot=R.from_euler('y', dd.sensor.tilt, degrees=True)\n",
    "\n",
    "#----------------------\n",
    "# Magnet\n",
    "#----------------------\n",
    "\n",
    "\n",
    "@apply_func_df\n",
    "def calc_B_vs_z(X, dd):\n",
    "  'Calculate the field vector in mT as a function of z'\n",
    "  B = magnet.getB(np.array(dd.sensor.pos) + np.array([0,0,X.z]))/1e-3\n",
    "  return {'Bx': B[0], 'By': B[1], 'Bz': B[2]}\n",
    "\n",
    "@apply_func_df\n",
    "def calc_B(X, dd, magnet):\n",
    "  'Calculate the field vector in mT as a function of rotation'\n",
    "  magnet.rotate(angle=X.theta_i, axis=[0,0,1])\n",
    "  B = magnet.getB(np.array(dd.sensor.pos))/1e-3\n",
    "  magnet.angle=0\n",
    "  B=dd.sensor.rot.apply(B)\n",
    "  return {'Bx': B[0], 'By': B[1], 'Bz': B[2]}\n",
    "\n",
    "\n",
    "#----------------------\n",
    "# Electronics\n",
    "#----------------------\n",
    "import colorednoise as cn\n",
    "\n",
    "def apply_noise(df, dd):\n",
    "  noise=pd.DataFrame([pd.Series(cn.powerlaw_psd_gaussian(1, len(df))) for k in np.arange(2)]).T\n",
    "  noise*=dd.sensor.noise\n",
    "  df[['Bx', 'By']] +=noise.values\n",
    "  return df\n",
    "\n",
    "@apply_func_df\n",
    "def transduce(X, dd):\n",
    "  return {\n",
    "    'Vx': X.Bx * dd['sensor']['S'],\n",
    "    'Vy': X.By * dd['sensor']['S'],\n",
    "    }\n",
    "\n",
    "@apply_func_df\n",
    "def quantize(X, dd):\n",
    "  def q(v): \n",
    "    return np.clip(int(v/dd.adc.lsb), -2**(dd.adc.n-1), 2**(dd.adc.n-1))\n",
    "  return {'Qx': q(X.Vx), 'Qy': q(X.Vy)}\n",
    "\n",
    "#-------------------------\n",
    "# Angle calculation\n",
    "#------------------------\n",
    "#url = \"https://people.sc.fsu.edu/~jburkardt/py_src/cordic/cordic.py\"\n",
    "#!wget {url} -O cordic.py\n",
    "import cordic\n",
    "\n",
    "\n",
    "@apply_func_df\n",
    "def calc_angle(X, dd):\n",
    "  x,y = X.Qx, X.Qy\n",
    "  angle = cordic.arctan_cordic(x, y, n=dd.cordic.n)\n",
    "  # 4-quadrant extension\n",
    "  return {'theta_o': np.degrees(np.sign(x)**2 * angle + (1-np.sign(x))/2*(1+np.sign(y)-np.sign(y)**2)*np.pi)}\n",
    "\n",
    "#-------------------------------------------\n",
    "# Virtual experiment with complete chain\n",
    "#-------------------------------------------\n",
    "\n",
    "def virtual_experiment(theta_i=np.arange(0,360,0.1), dd={}):\n",
    "  dd=merge(load_dd(), dd)\n",
    "  calc_derived(dd)\n",
    "  magnet=Bar_magnet(**dd.magnet)\n",
    "  \n",
    "  df = pd.DataFrame({'theta_i': theta_i})\n",
    "  df=(df.pipe(calc_B, dd=dd, magnet=magnet)\n",
    "      .pipe(transduce,dd=dd)\n",
    "      .pipe(apply_noise, dd=dd)\n",
    "      .pipe(quantize, dd=dd)\n",
    "      .pipe(calc_angle, dd=dd))\n",
    "  df['theta_err'] = deg_180(df.theta_o - df.theta_i)\n",
    "  df['theta_err'] -= df['theta_err'].mean()\n",
    "  return df\n",
    "\n",
    "#-------------------------------------------\n",
    "# ENOB\n",
    "#-------------------------------------------\n",
    "N_FFT=2**12\n",
    "\n",
    "def ENOB(ser, full_scale=None):\n",
    "  '''\n",
    "  Calculate ENOB and related power quantities (Signal, Distortion, ...).\n",
    "  \n",
    "  Args:\n",
    "  - ser: series containing the output waveform (a distorted/noisy sinewave)\n",
    "  - full_scale: positive full scale (bipolar range assumed: +-full_scale) \n",
    "                to be used in SNR/ENOB calculation. \n",
    "                If not given, SNR calculation uses the given waveform\n",
    "  \n",
    "  Returns:\n",
    "  \n",
    "  A dataframe containing the key performance parameters values\n",
    "    - ENOB in bits\n",
    "    - d:  √Distortion power\n",
    "    - n:  √Noise power\n",
    "  \n",
    "  And another series containing the spectral power bin in dB below signal (or full scale if given)\n",
    "  '''\n",
    "  \n",
    "  # Spectral analysis\n",
    "  ser-=ser.mean()\n",
    "  f, P =  signal.periodogram(ser, scaling='spectrum', detrend=None)\n",
    "  \n",
    "  # Power quantities\n",
    "  idx_max=np.argmax(P)\n",
    "  S   = P[idx_max]    # Unit energy: rms^2\n",
    "  D   = sum(P[2*idx_max:11*idx_max:idx_max]) # sum of harmonic components up to order 10\n",
    "  N   = sum(P) - S - D\n",
    "  \n",
    "  # Use full scale for signal if given\n",
    "  if full_scale:                    \n",
    "    S = 0.5*full_scale**2\n",
    "  \n",
    "  \n",
    "  # Metrics: see also http://www.ni.com/white-paper/4278/en/  \n",
    "  # IEEE Standard for Terminology and Test Methods for Analog-to-Digital Converters, IEEE Std 1241-2000.\n",
    "  SINAD = 10*np.log10(S/(N+D))\n",
    "  KPP = pd.Series({\n",
    "    'ENOB': (SINAD - 1.76) / 6.02,\n",
    "    'd':   np.sqrt(D), \n",
    "    'n':   np.sqrt(N),\n",
    "  }).to_frame('value')\n",
    "  \n",
    "  return KPP, pd.DataFrame({'f': f,'Pc': 10*np.log10(P/S)})\n"
   ]
  },
  {
   "cell_type": "markdown",
   "metadata": {},
   "source": [
    "## Data dictionary\n",
    "\n",
    "The following loads the data dictioanry containing all fixed design parameters."
   ]
  },
  {
   "cell_type": "code",
   "execution_count": null,
   "metadata": {
    "code_folding": []
   },
   "outputs": [],
   "source": [
    "dd=load_dd()\n",
    "display(pd.DataFrame.from_dict(dd, orient='index')\\\n",
    "        .stack().rename_axis(['component','parameter']).to_frame('value'))\n",
    "\n",
    "calc_derived(dd)"
   ]
  },
  {
   "cell_type": "markdown",
   "metadata": {},
   "source": [
    "## Modeling mechanical and magnetic aspects\n",
    "\n",
    "Here we calculate and plot the sensed field components."
   ]
  },
  {
   "cell_type": "code",
   "execution_count": null,
   "metadata": {},
   "outputs": [],
   "source": [
    "dd = load_dd()\n",
    "calc_derived(dd)\n",
    "magnet=Bar_magnet(**dd.magnet)\n",
    "df = pd.DataFrame({'theta_i': np.linspace(0,360,2**10, endpoint=False)})\n",
    "df=calc_B(df, dd, magnet=magnet)   #explicit key word argument for magnet\n",
    "df['B magn.']=df.filter(regex='B[x,y,z]').apply(np.linalg.norm, axis=1)\n",
    "\n",
    "df.hvplot(x='theta_i', y=['Bx', 'By', 'B magn.'],\n",
    "          xlabel='θi [°]', ylabel='Field [mT]')"
   ]
  },
  {
   "cell_type": "markdown",
   "metadata": {},
   "source": [
    "### Field vs airgap\n",
    "\n",
    "As a side note, we plot here the field amplitude over airgap.\n",
    "This is not part of the main analysis."
   ]
  },
  {
   "cell_type": "code",
   "execution_count": null,
   "metadata": {},
   "outputs": [],
   "source": [
    "df = pd.DataFrame({'z': np.arange(-5,5,0.5)})\n",
    "df=calc_B_vs_z(df, dd)\n",
    "\n",
    "df['Bmag']=df.filter(regex='B[x,y,z]').apply(np.linalg.norm, axis=1)\n",
    "dd.magnet.airgap =dd.magnet.pos[2] - dd.magnet.dim[2]\n",
    "df['airgap']=dd.magnet.airgap - df.z\n",
    "df.hvplot(x='airgap', y='Bmag',\n",
    "          xlabel='airgap [mm]', ylabel='Field magnitude [mT]', width=400,\n",
    "         )"
   ]
  },
  {
   "cell_type": "markdown",
   "metadata": {},
   "source": [
    "### Noise modeling and power-spectral density\n",
    "\n",
    "Here we generate and plot pink noise waveform.\n",
    "By default they have an RMS amplitude of 1 (see std below)."
   ]
  },
  {
   "cell_type": "code",
   "execution_count": null,
   "metadata": {},
   "outputs": [],
   "source": [
    "N = 10\n",
    "import colorednoise as cn\n",
    "beta = 1 # the exponent\n",
    "samples = 2**N # number of samples to generate\n",
    "\n",
    "noise=pd.DataFrame([pd.Series(cn.powerlaw_psd_gaussian(1, samples)) for k in np.arange(2)]).T\n",
    "\n",
    "# optionally plot the Power Spectral Density with Matplotlib\n",
    "from matplotlib import mlab\n",
    "display(noise.describe())\n",
    "noise[0].hvplot(width=400)"
   ]
  },
  {
   "cell_type": "markdown",
   "metadata": {},
   "source": [
    "The spectrum has the shape \"1/f\" as expected."
   ]
  },
  {
   "cell_type": "code",
   "execution_count": null,
   "metadata": {},
   "outputs": [],
   "source": [
    "spectrum=pd.DataFrame(mlab.psd(noise[0], NFFT=2**8, Fs=1), index=['P', 'f']).T\n",
    "spectrum.iloc[1:].hvplot(x='f', y='P', logx=True, logy=True, \n",
    "                xlabel='Normalized frequency', \n",
    "                ylabel='Power density [T²/Hz]')"
   ]
  },
  {
   "cell_type": "markdown",
   "metadata": {},
   "source": [
    "## Complete chain\n",
    "\n",
    "The complete chain can be invoked via teh virtual_experiement function.\n",
    "We plot the angle error for illustration"
   ]
  },
  {
   "cell_type": "code",
   "execution_count": null,
   "metadata": {},
   "outputs": [],
   "source": [
    "df =virtual_experiment(\n",
    "  theta_i=180*np.sin(3 * (2*np.pi/(N_FFT) * np.arange(N_FFT))),\n",
    "  dd={'sensor': dict(pos=[0,1,0])}).reset_index()\n",
    "df['theta_o']=np.unwrap(df['theta_o'],180)\n",
    "\n",
    "df.theta_err.plot(xlabel='sample [n]', ylabel='angle error [degree]')"
   ]
  },
  {
   "cell_type": "markdown",
   "metadata": {},
   "source": [
    "## ENOB analysis\n",
    "\n",
    "The ENOB analysis has been wrapped into a function. It returns a few metrics."
   ]
  },
  {
   "cell_type": "code",
   "execution_count": null,
   "metadata": {},
   "outputs": [],
   "source": [
    "KPP,dB = ENOB(df.theta_o, full_scale=180)\n",
    "display(KPP.style.format(\"{:.2f}\"))"
   ]
  },
  {
   "cell_type": "markdown",
   "metadata": {},
   "source": [
    "## Dashboard\n",
    "\n",
    "The dashboard consists of a few plots and one summary table."
   ]
  },
  {
   "cell_type": "code",
   "execution_count": null,
   "metadata": {},
   "outputs": [],
   "source": [
    "# A few plots\n",
    "g1=df.hvplot(y='theta_i',   xlabel='n', ylabel='Angle [°]', width=FIG_WIDTH)\n",
    "g2=df.hvplot(y='theta_err', xlabel='n', ylabel='Angle [°]', width=FIG_WIDTH)\n",
    "g3=dB.iloc[1:]\\\n",
    " .hvplot(y='Pc', x='f', logy=False, logx=False, xlim=[-1e-2,None],\n",
    "        ylabel = 'Normalized power [dB]',\n",
    "        xlabel = 'Normalized frequency f/fs', \n",
    "        width=FIG_WIDTH\n",
    "        )\n",
    "\n",
    "# Format the summary table of key perf. parameters\n",
    "KPP['units']=['b', '°rms', '°rms']\n",
    "KPP.index=['ENOB','Distortion', 'Noise']\n",
    "KPP.value=KPP.value.apply(lambda x: '{:.2f}'.format(x))\n",
    "\n",
    "# Assemble dashboard\n",
    "panel=pn.Row(\n",
    "  pn.Tabs(\n",
    "    ('Input stimuli', g1),\n",
    "    ('Sensor error', g2),\n",
    "    ('Sensor output spectrum', g3)),\n",
    "  pn.widgets.DataFrame(KPP, name='summary', sortable=False, width=250))\n",
    "panel.embed()  "
   ]
  }
 ],
 "metadata": {
  "hide_input": false,
  "jupytext": {
   "formats": "ipynb,md:myst"
  },
  "kernelspec": {
   "display_name": "Python 3",
   "language": "python",
   "name": "python3"
  },
  "language_info": {
   "codemirror_mode": {
    "name": "ipython",
    "version": 3
   },
   "file_extension": ".py",
   "mimetype": "text/x-python",
   "name": "python",
   "nbconvert_exporter": "python",
   "pygments_lexer": "ipython3",
   "version": "3.7.7"
  },
  "latex_envs": {
   "LaTeX_envs_menu_present": true,
   "autoclose": false,
   "autocomplete": true,
   "bibliofile": "biblio.bib",
   "cite_by": "apalike",
   "current_citInitial": 1,
   "eqLabelWithNumbers": true,
   "eqNumInitial": 1,
   "hotkeys": {
    "equation": "Ctrl-E",
    "itemize": "Ctrl-I"
   },
   "labels_anchors": false,
   "latex_user_defs": false,
   "report_style_numbering": false,
   "user_envs_cfg": false
  },
  "toc": {
   "base_numbering": 1,
   "nav_menu": {},
   "number_sections": true,
   "sideBar": true,
   "skip_h1_title": true,
   "title_cell": "Table of Contents",
   "title_sidebar": "Contents",
   "toc_cell": false,
   "toc_position": {},
   "toc_section_display": true,
   "toc_window_display": true
  },
  "varInspector": {
   "cols": {
    "lenName": 16,
    "lenType": 16,
    "lenVar": 40
   },
   "kernels_config": {
    "python": {
     "delete_cmd_postfix": "",
     "delete_cmd_prefix": "del ",
     "library": "var_list.py",
     "varRefreshCmd": "print(var_dic_list())"
    },
    "r": {
     "delete_cmd_postfix": ") ",
     "delete_cmd_prefix": "rm(",
     "library": "var_list.r",
     "varRefreshCmd": "cat(var_dic_list()) "
    }
   },
   "types_to_exclude": [
    "module",
    "function",
    "builtin_function_or_method",
    "instance",
    "_Feature"
   ],
   "window_display": false
  }
 },
 "nbformat": 4,
 "nbformat_minor": 4
}