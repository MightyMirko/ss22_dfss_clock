{
 "cells": [
  {
   "cell_type": "code",
   "execution_count": 9,
   "metadata": {
    "collapsed": true
   },
   "outputs": [],
   "source": [
    "\n",
    "\n",
    "import os\n",
    "from datetime import datetime\n",
    "from enum import Enum\n",
    "\n",
    "import matplotlib.pyplot as plt\n",
    "import numpy as np\n",
    "import pandas\n",
    "import pandas as pd\n",
    "import scipy.io.wavfile\n",
    "from pyAudioAnalysis import ShortTermFeatures as aF\n",
    "from pyAudioAnalysis import audioBasicIO as aIO\n",
    "from scipy.io import wavfile\n",
    "from scipy.stats import t\n",
    "\n",
    "###################\n",
    "# Anlegen globaler Var\n",
    "###################\n",
    "plt.rcParams['figure.dpi'] = 150\n",
    "# plt.rcParams['interactive'] = True\n",
    "plt.rcParams['figure.figsize'] = (12, 9)"
   ]
  },
  {
   "cell_type": "code",
   "execution_count": 13,
   "metadata": {
    "collapsed": false,
    "pycharm": {
     "name": "#%%\n"
    }
   },
   "outputs": [],
   "source": [
    "audio_dir = r'data'\n",
    "wavfiles = []\n",
    "################################################\n",
    "# Anlegen und holen aller Daten aus der audioDir, dann Desinfizieren der Wavliste\n",
    "################################################\n",
    "with os.scandir(audio_dir) as it:\n",
    "    for entry in it:\n",
    "        if entry.name.endswith('.wav') and entry.is_file():\n",
    "            wavfiles.append(entry.name)\n",
    "# wavfiles = wavfiles[:400]\n",
    "anzahl = len(wavfiles)\n",
    "anzahlnochnicht = anzahl\n",
    "#wavfiles = np.random.choice(wavfiles,5 )\n"
   ]
  },
  {
   "cell_type": "code",
   "execution_count": 14,
   "metadata": {
    "collapsed": false,
    "pycharm": {
     "name": "#%%\n"
    }
   },
   "outputs": [],
   "source": [
    "signals = []\n",
    "for audiofile in wavfiles:\n",
    "    fs, signal = wavfile.read(os.path.join(audio_dir, audiofile),mmap=True)\n",
    "    signals.append(signal)"
   ]
  },
  {
   "cell_type": "code",
   "execution_count": 15,
   "metadata": {
    "collapsed": false,
    "pycharm": {
     "name": "#%%\n"
    }
   },
   "outputs": [
    {
     "data": {
      "text/plain": [
       "array([[ 0.0000000e+00,  0.0000000e+00, -3.0517578e-05, ...,\n",
       "         0.0000000e+00,  0.0000000e+00, -9.1552734e-05],\n",
       "       [ 0.0000000e+00,  0.0000000e+00, -3.0517578e-05, ...,\n",
       "         1.2512207e-03,  1.2817383e-03,  1.2512207e-03],\n",
       "       [ 0.0000000e+00,  0.0000000e+00, -3.0517578e-05, ...,\n",
       "        -1.8615723e-03, -1.8615723e-03, -1.9531250e-03],\n",
       "       ...,\n",
       "       [ 0.0000000e+00,  0.0000000e+00, -3.0517578e-05, ...,\n",
       "        -1.8005371e-03, -1.7700195e-03, -1.6479492e-03],\n",
       "       [-1.3122559e-03, -1.6479492e-03, -1.8615723e-03, ...,\n",
       "        -9.7656250e-04, -9.4604492e-04, -9.4604492e-04],\n",
       "       [-7.3242188e-04, -8.2397461e-04, -8.5449219e-04, ...,\n",
       "        -2.1362305e-04, -2.7465820e-04, -3.3569336e-04]], dtype=float32)"
      ]
     },
     "execution_count": 15,
     "metadata": {},
     "output_type": "execute_result"
    }
   ],
   "source": [
    "#for i in signals:\n",
    "\n",
    "vec = np.asarray(signals)\n",
    "\n",
    "np.sum(vec**2)\n",
    "vec"
   ]
  }
 ],
 "metadata": {
  "kernelspec": {
   "display_name": "Python 3.7.11 ('p37_ws21-p')",
   "language": "python",
   "name": "python3"
  },
  "language_info": {
   "codemirror_mode": {
    "name": "ipython",
    "version": 3
   },
   "file_extension": ".py",
   "mimetype": "text/x-python",
   "name": "python",
   "nbconvert_exporter": "python",
   "pygments_lexer": "ipython3",
   "version": "3.7.11"
  },
  "vscode": {
   "interpreter": {
    "hash": "20183910e273cd2453b92c1ab0224a854bd284b7232c9ca746fcce73860bf063"
   }
  }
 },
 "nbformat": 4,
 "nbformat_minor": 0
}