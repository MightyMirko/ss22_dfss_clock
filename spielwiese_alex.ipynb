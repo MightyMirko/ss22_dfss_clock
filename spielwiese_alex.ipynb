{
 "cells": [
  {
   "cell_type": "code",
   "execution_count": 12,
   "metadata": {},
   "outputs": [
    {
     "name": "stdout",
     "output_type": "stream",
     "text": [
      " Danke für die Spielwiese :) \n"
     ]
    }
   ],
   "source": [
    "import pandas\n",
    "import numpy as np\n",
    "import pandas as pd\n",
    "import matplotlib.pyplot as plt\n",
    "import os, sys\n",
    "from main import prognose\n",
    "from scipy import stats\n",
    "import seaborn as sns\n",
    "print(\" Danke für die Spielwiese :) \")"
   ]
  },
  {
   "cell_type": "code",
   "execution_count": 13,
   "metadata": {
    "pycharm": {
     "name": "#%%\n"
    }
   },
   "outputs": [],
   "source": [
    "df = pandas.read_csv(r'data\\csv\\15-40-output.csv', index_col=0)\n",
    "df_copy = df.copy()"
   ]
  },
  {
   "cell_type": "code",
   "execution_count": 14,
   "outputs": [
    {
     "data": {
      "text/plain": "                       GesamtEnergie              rectime ZeigerWinkel  \\\n20220510_05_42_01.wav       1.459450  2022-05-10 05:42:01         oben   \n20220510_05_42_01.wav       1.459450  2022-05-10 05:42:01         oben   \n20220510_05_48_54.wav       0.788956  2022-05-10 05:48:54         oben   \n20220510_05_48_54.wav       0.788956  2022-05-10 05:48:54         oben   \n20220510_07_11_17.wav       0.548677  2022-05-10 07:11:17       rechts   \n\n                      tickfolge         0         1         2         3  \\\n20220510_05_42_01.wav     tick0  0.007050  0.006226  0.005035  0.003845   \n20220510_05_42_01.wav     tick1 -0.000458 -0.000549 -0.000793 -0.001007   \n20220510_05_48_54.wav     tick0 -0.000916 -0.001007 -0.001038 -0.000916   \n20220510_05_48_54.wav     tick1 -0.001343 -0.001495 -0.001526 -0.001495   \n20220510_07_11_17.wav     tick0 -0.000397 -0.000519 -0.000519 -0.000549   \n\n                              4         5  ...      6710      6711      6712  \\\n20220510_05_42_01.wav  0.003082  0.002960  ... -0.000946 -0.001129 -0.001190   \n20220510_05_42_01.wav -0.001129 -0.001160  ... -0.000397 -0.000549 -0.000702   \n20220510_05_48_54.wav -0.000763 -0.000641  ... -0.000977 -0.001007 -0.001068   \n20220510_05_48_54.wav -0.001373 -0.001221  ... -0.000305 -0.000488 -0.000580   \n20220510_07_11_17.wav -0.000610 -0.000671  ... -0.001190 -0.001312 -0.001404   \n\n                           6713      6714      6715      6716      6717  \\\n20220510_05_42_01.wav -0.001129 -0.000977 -0.000916 -0.000946 -0.001099   \n20220510_05_42_01.wav -0.000824 -0.000824 -0.000793 -0.000641 -0.000549   \n20220510_05_48_54.wav -0.001160 -0.001251 -0.001190 -0.001129 -0.001007   \n20220510_05_48_54.wav -0.000519 -0.000366 -0.000122  0.000031  0.000000   \n20220510_07_11_17.wav -0.001404 -0.001373 -0.001282 -0.001221 -0.001129   \n\n                           6718      6719  \n20220510_05_42_01.wav -0.001251 -0.001373  \n20220510_05_42_01.wav -0.000458 -0.000366  \n20220510_05_48_54.wav -0.000854 -0.000824  \n20220510_05_48_54.wav -0.000153 -0.000336  \n20220510_07_11_17.wav -0.001038 -0.000946  \n\n[5 rows x 6724 columns]",
      "text/html": "<div>\n<style scoped>\n    .dataframe tbody tr th:only-of-type {\n        vertical-align: middle;\n    }\n\n    .dataframe tbody tr th {\n        vertical-align: top;\n    }\n\n    .dataframe thead th {\n        text-align: right;\n    }\n</style>\n<table border=\"1\" class=\"dataframe\">\n  <thead>\n    <tr style=\"text-align: right;\">\n      <th></th>\n      <th>GesamtEnergie</th>\n      <th>rectime</th>\n      <th>ZeigerWinkel</th>\n      <th>tickfolge</th>\n      <th>0</th>\n      <th>1</th>\n      <th>2</th>\n      <th>3</th>\n      <th>4</th>\n      <th>5</th>\n      <th>...</th>\n      <th>6710</th>\n      <th>6711</th>\n      <th>6712</th>\n      <th>6713</th>\n      <th>6714</th>\n      <th>6715</th>\n      <th>6716</th>\n      <th>6717</th>\n      <th>6718</th>\n      <th>6719</th>\n    </tr>\n  </thead>\n  <tbody>\n    <tr>\n      <th>20220510_05_42_01.wav</th>\n      <td>1.459450</td>\n      <td>2022-05-10 05:42:01</td>\n      <td>oben</td>\n      <td>tick0</td>\n      <td>0.007050</td>\n      <td>0.006226</td>\n      <td>0.005035</td>\n      <td>0.003845</td>\n      <td>0.003082</td>\n      <td>0.002960</td>\n      <td>...</td>\n      <td>-0.000946</td>\n      <td>-0.001129</td>\n      <td>-0.001190</td>\n      <td>-0.001129</td>\n      <td>-0.000977</td>\n      <td>-0.000916</td>\n      <td>-0.000946</td>\n      <td>-0.001099</td>\n      <td>-0.001251</td>\n      <td>-0.001373</td>\n    </tr>\n    <tr>\n      <th>20220510_05_42_01.wav</th>\n      <td>1.459450</td>\n      <td>2022-05-10 05:42:01</td>\n      <td>oben</td>\n      <td>tick1</td>\n      <td>-0.000458</td>\n      <td>-0.000549</td>\n      <td>-0.000793</td>\n      <td>-0.001007</td>\n      <td>-0.001129</td>\n      <td>-0.001160</td>\n      <td>...</td>\n      <td>-0.000397</td>\n      <td>-0.000549</td>\n      <td>-0.000702</td>\n      <td>-0.000824</td>\n      <td>-0.000824</td>\n      <td>-0.000793</td>\n      <td>-0.000641</td>\n      <td>-0.000549</td>\n      <td>-0.000458</td>\n      <td>-0.000366</td>\n    </tr>\n    <tr>\n      <th>20220510_05_48_54.wav</th>\n      <td>0.788956</td>\n      <td>2022-05-10 05:48:54</td>\n      <td>oben</td>\n      <td>tick0</td>\n      <td>-0.000916</td>\n      <td>-0.001007</td>\n      <td>-0.001038</td>\n      <td>-0.000916</td>\n      <td>-0.000763</td>\n      <td>-0.000641</td>\n      <td>...</td>\n      <td>-0.000977</td>\n      <td>-0.001007</td>\n      <td>-0.001068</td>\n      <td>-0.001160</td>\n      <td>-0.001251</td>\n      <td>-0.001190</td>\n      <td>-0.001129</td>\n      <td>-0.001007</td>\n      <td>-0.000854</td>\n      <td>-0.000824</td>\n    </tr>\n    <tr>\n      <th>20220510_05_48_54.wav</th>\n      <td>0.788956</td>\n      <td>2022-05-10 05:48:54</td>\n      <td>oben</td>\n      <td>tick1</td>\n      <td>-0.001343</td>\n      <td>-0.001495</td>\n      <td>-0.001526</td>\n      <td>-0.001495</td>\n      <td>-0.001373</td>\n      <td>-0.001221</td>\n      <td>...</td>\n      <td>-0.000305</td>\n      <td>-0.000488</td>\n      <td>-0.000580</td>\n      <td>-0.000519</td>\n      <td>-0.000366</td>\n      <td>-0.000122</td>\n      <td>0.000031</td>\n      <td>0.000000</td>\n      <td>-0.000153</td>\n      <td>-0.000336</td>\n    </tr>\n    <tr>\n      <th>20220510_07_11_17.wav</th>\n      <td>0.548677</td>\n      <td>2022-05-10 07:11:17</td>\n      <td>rechts</td>\n      <td>tick0</td>\n      <td>-0.000397</td>\n      <td>-0.000519</td>\n      <td>-0.000519</td>\n      <td>-0.000549</td>\n      <td>-0.000610</td>\n      <td>-0.000671</td>\n      <td>...</td>\n      <td>-0.001190</td>\n      <td>-0.001312</td>\n      <td>-0.001404</td>\n      <td>-0.001404</td>\n      <td>-0.001373</td>\n      <td>-0.001282</td>\n      <td>-0.001221</td>\n      <td>-0.001129</td>\n      <td>-0.001038</td>\n      <td>-0.000946</td>\n    </tr>\n  </tbody>\n</table>\n<p>5 rows × 6724 columns</p>\n</div>"
     },
     "execution_count": 14,
     "metadata": {},
     "output_type": "execute_result"
    }
   ],
   "source": [
    "df.head()"
   ],
   "metadata": {
    "collapsed": false,
    "pycharm": {
     "name": "#%%\n"
    }
   }
  },
  {
   "cell_type": "code",
   "execution_count": null,
   "metadata": {
    "pycharm": {
     "name": "#%%\n"
    }
   },
   "outputs": [],
   "source": [
    "plt.rcParams['figure.dpi'] = 150\n",
    "# plt.rcParams['interactive'] = True\n",
    "plt.rcParams['figure.figsize'] = (12, 9)\n",
    "sieb_energien = pandas.read_csv('gesamtdaten_energien.csv', index_col=0)\n",
    "fig, ax = plt.subplots(3,1)#, sharey='all')\n",
    "pwr = sieb_energien['GesamtEnergie'].copy()/2**15\n",
    "\n",
    "for i in ax:\n",
    "    print(i)\n",
    "    print(pwr.shape)\n",
    "    pwr[:].hist(bins=1000, grid=True, color='purple',log=True,ax=i)\n",
    "    progmax = prognose(pwr.to_numpy(), gamma=0.95)\n",
    "    print\n",
    "    # siebe nun anhand der prognostizierten Schwellenwerte.\n",
    "    for x in pwr.index:\n",
    "        if pwr.loc[x] > progmax:\n",
    "            pwr = pwr.drop(x).copy()\n",
    "    i.grid()\n",
    "\n",
    "fig.tight_layout()\n",
    "plt.show()\n",
    "\n",
    "#sieb_energien.plot.hist()"
   ]
  },
  {
   "cell_type": "code",
   "execution_count": null,
   "metadata": {
    "pycharm": {
     "name": "#%%\n"
    }
   },
   "outputs": [],
   "source": [
    "#fig, ax = plt.subplots(3,1)#, sharey='all')\n",
    "pwr = sieb_energien['GesamtEnergie'].copy()/2**15\n",
    "\n",
    "fitted_data, fitted_lambda = stats.boxcox(pwr)\n",
    "\n",
    "\n",
    "fitted_data = pandas.Series(fitted_data, index= pwr.index)\n",
    "# plotting the original data(non-normal) and\n",
    "# fitted data (normal)\n",
    "\n",
    "\n",
    "#sns.distplot(pwr, hist = False, kde = True,\n",
    "#            kde_kws = {'shade': True, 'linewidth': 2},\n",
    "#            label = \"Non-Normal\", color =\"green\", ax = ax[0])\n",
    "#\n",
    "#sns.distplot(fitted_data, hist = False, kde = True,\n",
    "#            kde_kws = {'shade': True, 'linewidth': 2},\n",
    "#            label = \"Normal\", color =\"green\", ax = ax[1])\n",
    "\n",
    "\n",
    "#prob = stats.probplot(pwr, dist=stats.norm, plot=ax[0])\n",
    "#prob = stats.probplot(fitted_data, dist=stats.norm, plot=ax[1])"
   ]
  },
  {
   "cell_type": "code",
   "execution_count": null,
   "outputs": [],
   "source": [
    "fig, ax = plt.subplots(2,1, figsize=(12, 12))# sharex='col', sharey='row')\n",
    "n = 2\n",
    "n_bins = 1200\n",
    "bins = np.linspace(pwr.min(), pwr.max(), n_bins) #Create bins of equal size between min_value and max_value\n",
    "\n",
    "pwr.hist(bins=bins, ax=ax[0], alpha=0.5, color='red')\n",
    "\n",
    "bins = np.linspace(fitted_data.min(), fitted_data.max(), n_bins) #Create bins of equal size between min_value and max_value\n",
    "\n",
    "fitted_data.hist(bins=bins, ax=ax[1], alpha=0.5, color='blue')\n",
    "#ax[i].set_title(df.columns[i][2:])\n",
    "plt.legend(loc = \"upper right\")\n",
    "plt.show()\n",
    "print(f\"Lambda value used for Transformation: {fitted_lambda}\")"
   ],
   "metadata": {
    "collapsed": false,
    "pycharm": {
     "name": "#%%\n"
    }
   }
  },
  {
   "cell_type": "code",
   "execution_count": null,
   "metadata": {
    "pycharm": {
     "name": "#%%\n"
    }
   },
   "outputs": [],
   "source": [
    "print(pwr)\n",
    "print(fitted_data)"
   ]
  },
  {
   "cell_type": "code",
   "execution_count": null,
   "metadata": {
    "pycharm": {
     "name": "#%%\n"
    }
   },
   "outputs": [],
   "source": []
  },
  {
   "cell_type": "code",
   "execution_count": null,
   "metadata": {
    "pycharm": {
     "name": "#%%\n"
    }
   },
   "outputs": [],
   "source": []
  },
  {
   "cell_type": "code",
   "execution_count": null,
   "metadata": {},
   "outputs": [],
   "source": []
  }
 ],
 "metadata": {
  "kernelspec": {
   "display_name": "Python 3 (ipykernel)",
   "language": "python",
   "name": "python3"
  },
  "language_info": {
   "codemirror_mode": {
    "name": "ipython",
    "version": 3
   },
   "file_extension": ".py",
   "mimetype": "text/x-python",
   "name": "python",
   "nbconvert_exporter": "python",
   "pygments_lexer": "ipython3",
   "version": "3.9.7"
  }
 },
 "nbformat": 4,
 "nbformat_minor": 1
}