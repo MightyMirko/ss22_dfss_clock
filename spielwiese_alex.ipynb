{
 "cells": [
  {
   "cell_type": "code",
   "execution_count": 7,
   "metadata": {},
   "outputs": [
    {
     "name": "stdout",
     "output_type": "stream",
     "text": [
      " Danke für die Spielwiese :) \n"
     ]
    }
   ],
   "source": [
    "import pandas\n",
    "import numpy as np\n",
    "import pandas as pd\n",
    "import matplotlib.pyplot as plt\n",
    "import os, sys\n",
    "from main import prognose\n",
    "from scipy import stats\n",
    "import seaborn as sns\n",
    "print(\" Danke für die Spielwiese :) \")"
   ]
  },
  {
   "cell_type": "code",
   "execution_count": 9,
   "metadata": {
    "pycharm": {
     "name": "#%%\n"
    }
   },
   "outputs": [],
   "source": [
    "df = pandas.read_csv(r'data\\csv\\15-40-output.csv', index_col=0)\n",
    "df_copy = df.copy()"
   ]
  },
  {
   "cell_type": "code",
   "execution_count": null,
   "metadata": {
    "pycharm": {
     "name": "#%%\n"
    }
   },
   "outputs": [],
   "source": []
  },
  {
   "cell_type": "code",
   "execution_count": null,
   "metadata": {
    "pycharm": {
     "name": "#%%\n"
    }
   },
   "outputs": [],
   "source": [
    "plt.rcParams['figure.dpi'] = 150\n",
    "# plt.rcParams['interactive'] = True\n",
    "plt.rcParams['figure.figsize'] = (12, 9)\n",
    "sieb_energien = pandas.read_csv('gesamtdaten_energien.csv', index_col=0)\n",
    "fig, ax = plt.subplots(3,1)#, sharey='all')\n",
    "pwr = sieb_energien['GesamtEnergie'].copy()/2**15\n",
    "\n",
    "for i in ax:\n",
    "    print(i)\n",
    "    print(pwr.shape)\n",
    "    pwr[:].hist(bins=1000, grid=True, color='purple',log=True,ax=i)\n",
    "    progmax = prognose(pwr.to_numpy(), gamma=0.95)\n",
    "    print\n",
    "    # siebe nun anhand der prognostizierten Schwellenwerte.\n",
    "    for x in pwr.index:\n",
    "        if pwr.loc[x] > progmax:\n",
    "            pwr = pwr.drop(x).copy()\n",
    "    i.grid()\n",
    "\n",
    "fig.tight_layout()\n",
    "plt.show()\n",
    "\n",
    "#sieb_energien.plot.hist()"
   ]
  },
  {
   "cell_type": "code",
   "execution_count": null,
   "metadata": {
    "pycharm": {
     "name": "#%%\n"
    }
   },
   "outputs": [],
   "source": [
    "#fig, ax = plt.subplots(3,1)#, sharey='all')\n",
    "pwr = sieb_energien['GesamtEnergie'].copy()/2**15\n",
    "\n",
    "fitted_data, fitted_lambda = stats.boxcox(pwr)\n",
    "\n",
    "\n",
    "fitted_data = pandas.Series(fitted_data, index= pwr.index)\n",
    "# plotting the original data(non-normal) and\n",
    "# fitted data (normal)\n",
    "\n",
    "\n",
    "#sns.distplot(pwr, hist = False, kde = True,\n",
    "#            kde_kws = {'shade': True, 'linewidth': 2},\n",
    "#            label = \"Non-Normal\", color =\"green\", ax = ax[0])\n",
    "#\n",
    "#sns.distplot(fitted_data, hist = False, kde = True,\n",
    "#            kde_kws = {'shade': True, 'linewidth': 2},\n",
    "#            label = \"Normal\", color =\"green\", ax = ax[1])\n",
    "\n",
    "\n",
    "#prob = stats.probplot(pwr, dist=stats.norm, plot=ax[0])\n",
    "#prob = stats.probplot(fitted_data, dist=stats.norm, plot=ax[1])"
   ]
  },
  {
   "cell_type": "code",
   "execution_count": null,
   "outputs": [],
   "source": [
    "fig, ax = plt.subplots(2,1, figsize=(12, 12))# sharex='col', sharey='row')\n",
    "n = 2\n",
    "n_bins = 1200\n",
    "bins = np.linspace(pwr.min(), pwr.max(), n_bins) #Create bins of equal size between min_value and max_value\n",
    "\n",
    "pwr.hist(bins=bins, ax=ax[0], alpha=0.5, color='red')\n",
    "\n",
    "bins = np.linspace(fitted_data.min(), fitted_data.max(), n_bins) #Create bins of equal size between min_value and max_value\n",
    "\n",
    "fitted_data.hist(bins=bins, ax=ax[1], alpha=0.5, color='blue')\n",
    "#ax[i].set_title(df.columns[i][2:])\n",
    "plt.legend(loc = \"upper right\")\n",
    "plt.show()\n",
    "print(f\"Lambda value used for Transformation: {fitted_lambda}\")"
   ],
   "metadata": {
    "collapsed": false,
    "pycharm": {
     "name": "#%%\n"
    }
   }
  },
  {
   "cell_type": "code",
   "execution_count": null,
   "metadata": {
    "pycharm": {
     "name": "#%%\n"
    }
   },
   "outputs": [],
   "source": [
    "print(pwr)\n",
    "print(fitted_data)"
   ]
  },
  {
   "cell_type": "code",
   "execution_count": null,
   "metadata": {
    "pycharm": {
     "name": "#%%\n"
    }
   },
   "outputs": [],
   "source": []
  },
  {
   "cell_type": "code",
   "execution_count": null,
   "metadata": {
    "pycharm": {
     "name": "#%%\n"
    }
   },
   "outputs": [],
   "source": []
  },
  {
   "cell_type": "code",
   "execution_count": null,
   "metadata": {},
   "outputs": [],
   "source": []
  }
 ],
 "metadata": {
  "kernelspec": {
   "display_name": "Python 3 (ipykernel)",
   "language": "python",
   "name": "python3"
  },
  "language_info": {
   "codemirror_mode": {
    "name": "ipython",
    "version": 3
   },
   "file_extension": ".py",
   "mimetype": "text/x-python",
   "name": "python",
   "nbconvert_exporter": "python",
   "pygments_lexer": "ipython3",
   "version": "3.9.7"
  }
 },
 "nbformat": 4,
 "nbformat_minor": 1
}