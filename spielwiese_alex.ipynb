{
 "cells": [
  {
   "cell_type": "code",
   "execution_count": 48,
   "metadata": {
    "collapsed": true
   },
   "outputs": [
    {
     "name": "stdout",
     "output_type": "stream",
     "text": [
      " Danke für die Spielwiese :) \n"
     ]
    }
   ],
   "source": [
    "import pandas\n",
    "import numpy as np\n",
    "import pandas as pd\n",
    "import matplotlib.pyplot as plt\n",
    "import scipy.io\n",
    "import scipy.stats\n",
    "\n",
    "import math as m\n",
    "import statistics\n",
    "\n",
    "import glob\n",
    "import os, sys\n",
    "print(\" Danke für die Spielwiese :) \")"
   ]
  },
  {
   "cell_type": "code",
   "execution_count": 63,
   "outputs": [
    {
     "name": "stdout",
     "output_type": "stream",
     "text": [
      "['20220412_16_19_23.wav' '20220412_16_19_26.wav' '20220412_16_19_29.wav'\n",
      " '20220412_21_02_46.wav' '20220412_21_02_49.wav' '20220412_21_02_52.wav'\n",
      " '20220412_23_27_00.wav' '20220412_23_27_03.wav' '20220412_23_27_06.wav'\n",
      " '20220413_04_58_14.wav' '20220413_04_58_17.wav' '20220413_04_58_20.wav'\n",
      " '20220509_16_26_46.wav' '20220509_17_19_45.wav' '20220509_17_27_21.wav'\n",
      " '20220509_17_31_33.wav' '20220509_21_05_12.wav' '20220509_21_10_26.wav'\n",
      " '20220509_21_21_10.wav' '20220509_23_27_52.wav' '20220510_00_13_34.wav'\n",
      " '20220510_00_13_37.wav' '20220510_00_13_40.wav' '20220510_00_13_43.wav'\n",
      " '20220510_00_13_46.wav' '20220510_00_13_49.wav' '20220510_00_13_52.wav'\n",
      " '20220510_00_13_55.wav' '20220510_00_13_58.wav' '20220510_02_18_19.wav'\n",
      " '20220510_02_27_09.wav' '20220510_05_30_45.wav' '20220510_05_42_01.wav'\n",
      " '20220510_05_48_54.wav' '20220510_07_11_17.wav' '20220510_07_11_33.wav'\n",
      " '20220510_07_12_53.wav' '20220510_07_12_56.wav' '20220510_07_12_59.wav'\n",
      " '20220510_07_13_02.wav' '20220510_07_13_05.wav' '20220510_07_13_08.wav'\n",
      " '20220510_07_13_11.wav' '20220510_07_13_14.wav' '20220510_09_27_58.wav'\n",
      " '20220510_09_28_01.wav' '20220510_09_28_04.wav' '20220510_09_28_07.wav'\n",
      " '20220510_09_28_10.wav' '20220510_09_28_13.wav' '20220510_09_28_16.wav'\n",
      " '20220510_09_28_19.wav' '20220510_09_28_22.wav']\n"
     ]
    }
   ],
   "source": [
    "wf = pandas.read_csv('wav.csv', index_col=0)\n",
    "wfarray = wf.to_numpy()\n",
    "df = pandas.read_csv('sieb.csv', index_col=0)\n",
    "#print(df.head())\n",
    "# Ist die Zeile von der ersten Liste im index der gesiebten?\n",
    "for i in wfarray.tolist():\n",
    "    apfel = i[0]\n",
    "    #print(apfel)\n",
    "    if apfel in df.index:\n",
    "        pass\n",
    "        #print(df.loc[apfel])\n",
    "   # Doofe Lösung\n",
    "# Lieber so\n",
    "birnen = df.index.values\n",
    "#  wavfiles = sieb_energien.index.values\n",
    "\n",
    "print(birnen)"
   ],
   "metadata": {
    "collapsed": false,
    "pycharm": {
     "name": "#%%\n"
    }
   }
  }
 ],
 "metadata": {
  "kernelspec": {
   "display_name": "Python 3",
   "language": "python",
   "name": "python3"
  },
  "language_info": {
   "codemirror_mode": {
    "name": "ipython",
    "version": 2
   },
   "file_extension": ".py",
   "mimetype": "text/x-python",
   "name": "python",
   "nbconvert_exporter": "python",
   "pygments_lexer": "ipython2",
   "version": "2.7.6"
  }
 },
 "nbformat": 4,
 "nbformat_minor": 0
}